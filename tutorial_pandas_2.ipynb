{
 "cells": [
  {
   "cell_type": "markdown",
   "id": "98f498e0",
   "metadata": {},
   "source": [
    "# Tutorial de Pandas: Como exportar, importar y adjuntar multiples DataFrames"
   ]
  },
  {
   "cell_type": "code",
   "execution_count": 1,
   "id": "5669dca0",
   "metadata": {},
   "outputs": [
    {
     "data": {
      "text/plain": [
       "id                       int64\n",
       "FECHA_ARCHIVO           object\n",
       "ID_REGISTRO             object\n",
       "ENTIDAD_UM               int64\n",
       "ENTIDAD_RES              int64\n",
       "RESULTADO                int64\n",
       "DELAY                    int64\n",
       "ENTIDAD_REGISTRO         int64\n",
       "ENTIDAD                 object\n",
       "ABR_ENT                 object\n",
       "FECHA_ACTUALIZACION     object\n",
       "ORIGEN                   int64\n",
       "SECTOR                   int64\n",
       "SEXO                     int64\n",
       "ENTIDAD_NAC              int64\n",
       "MUNICIPIO_RES          float64\n",
       "TIPO_PACIENTE            int64\n",
       "FECHA_INGRESO           object\n",
       "FECHA_SINTOMAS          object\n",
       "FECHA_DEF               object\n",
       "INTUBADO                 int64\n",
       "NEUMONIA                 int64\n",
       "EDAD                     int64\n",
       "NACIONALIDAD             int64\n",
       "EMBARAZO                 int64\n",
       "HABLA_LENGUA_INDIG       int64\n",
       "DIABETES                 int64\n",
       "EPOC                     int64\n",
       "ASMA                     int64\n",
       "INMUSUPR                 int64\n",
       "HIPERTENSION             int64\n",
       "OTRA_COM                 int64\n",
       "CARDIOVASCULAR           int64\n",
       "OBESIDAD                 int64\n",
       "RENAL_CRONICA            int64\n",
       "TABAQUISMO               int64\n",
       "OTRO_CASO                int64\n",
       "MIGRANTE                 int64\n",
       "PAIS_NACIONALIDAD       object\n",
       "PAIS_ORIGEN             object\n",
       "UCI                      int64\n",
       "dtype: object"
      ]
     },
     "execution_count": 1,
     "metadata": {},
     "output_type": "execute_result"
    }
   ],
   "source": [
    "# Lectura de datos de COVID\n",
    "import pandas as pd\n",
    "\n",
    "df_datosCovid = pd.read_csv(\"datos/mexico_covid19.csv\")\n",
    "df_datosCovid.dtypes"
   ]
  },
  {
   "cell_type": "markdown",
   "id": "b45cee4f",
   "metadata": {},
   "source": [
    "## Exportar el DataFrame en dos archivos, uno con todas las columnas que vamos a estudiar y otro con las columnas extra: `datos_estudio` y `datos_extra`"
   ]
  },
  {
   "cell_type": "code",
   "execution_count": 9,
   "id": "6f56faf3",
   "metadata": {},
   "outputs": [],
   "source": [
    "colsEstudio = [\"FECHA_ARCHIVO\", \"ID_REGISTRO\", \"ENTIDAD\", \"ORIGEN\", \"SEXO\", \"EMBARAZO\", \"EDAD\", \n",
    "               \"RESULTADO\", \"ASMA\", \"OBESIDAD\", \"HIPERTENSION\", \"UCI\"]\n",
    "df_datosEstudio = df_datosCovid[colsEstudio]\n",
    "df_datosEstudio.to_pickle(\"datos/datos_bin.pkl\")\n",
    "\n",
    "colsExtra = [\"ID_REGISTRO\",  \"TABAQUISMO\", \"CARDIOVASCULAR\"]\n",
    "df_datosExtra = df_datosCovid[colsExtra]\n",
    "df_datosExtra.to_csv(\"datos/datos_extra.csv\")"
   ]
  },
  {
   "cell_type": "markdown",
   "id": "b84eb8e9",
   "metadata": {},
   "source": [
    "### Formato de archivos\n",
    "Todos formatos de archivo presentan ventajas y desventajas entre ellos. En este caso, el formato pickle o `.pkl` es un archivo binario (como RAR). En cambio, el formato `.csv` es texto sin comprimir y su contenido puede ser legible para humanos."
   ]
  },
  {
   "cell_type": "markdown",
   "id": "62d3f6c0",
   "metadata": {},
   "source": [
    "## Importar y combinar archivos de datos"
   ]
  },
  {
   "cell_type": "code",
   "execution_count": 13,
   "id": "0728a0a1",
   "metadata": {},
   "outputs": [
    {
     "data": {
      "text/plain": [
       "FECHA_ARCHIVO    object\n",
       "ID_REGISTRO      object\n",
       "ENTIDAD          object\n",
       "ORIGEN            int64\n",
       "SEXO              int64\n",
       "EMBARAZO          int64\n",
       "EDAD              int64\n",
       "RESULTADO         int64\n",
       "ASMA              int64\n",
       "OBESIDAD          int64\n",
       "HIPERTENSION      int64\n",
       "UCI               int64\n",
       "dtype: object"
      ]
     },
     "execution_count": 13,
     "metadata": {},
     "output_type": "execute_result"
    }
   ],
   "source": [
    "df_estudio = pd.read_pickle(\"datos/datos_bin.pkl\")\n",
    "df_extra = pd.read_csv(\"datos/datos_extra.csv\")\n",
    "pd.merge(df_estudio, df_extra)\n",
    "df_estudio.dtypes"
   ]
  },
  {
   "cell_type": "code",
   "execution_count": null,
   "id": "c0c5aeb7",
   "metadata": {},
   "outputs": [],
   "source": []
  },
  {
   "cell_type": "code",
   "execution_count": null,
   "id": "a0ba6656",
   "metadata": {},
   "outputs": [],
   "source": []
  }
 ],
 "metadata": {
  "kernelspec": {
   "display_name": "Python 3 (ipykernel)",
   "language": "python",
   "name": "python3"
  },
  "language_info": {
   "codemirror_mode": {
    "name": "ipython",
    "version": 3
   },
   "file_extension": ".py",
   "mimetype": "text/x-python",
   "name": "python",
   "nbconvert_exporter": "python",
   "pygments_lexer": "ipython3",
   "version": "3.8.10"
  }
 },
 "nbformat": 4,
 "nbformat_minor": 5
}
